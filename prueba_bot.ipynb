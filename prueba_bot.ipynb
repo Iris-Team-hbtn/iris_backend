{
 "cells": [
  {
   "cell_type": "code",
   "execution_count": 8,
   "metadata": {},
   "outputs": [],
   "source": [
    "# imports\n",
    "\n",
    "import os\n",
    "from dotenv import load_dotenv\n",
    "from openai import OpenAI\n",
    "import google.generativeai\n",
    "import gradio as gr"
   ]
  },
  {
   "cell_type": "code",
   "execution_count": 9,
   "metadata": {},
   "outputs": [
    {
     "name": "stdout",
     "output_type": "stream",
     "text": [
      "Google API Key exists and begins AIzaSyA-\n"
     ]
    }
   ],
   "source": [
    "# Load environment variables in a file called .env\n",
    "# Print the key prefixes to help with any debugging\n",
    "\n",
    "load_dotenv()\n",
    "google_api_key = os.getenv('GOOGLE_API_KEY')\n",
    "\n",
    "if google_api_key:\n",
    "    print(f\"Google API Key exists and begins {google_api_key[:8]}\")\n",
    "else:\n",
    "    print(\"Google API Key not set\")"
   ]
  },
  {
   "cell_type": "code",
   "execution_count": 3,
   "metadata": {},
   "outputs": [],
   "source": [
    "# Initialize\n",
    "\n",
    "# openai = OpenAI()\n",
    "# MODEL = 'gpt-4o-mini'"
   ]
  },
  {
   "cell_type": "code",
   "execution_count": 10,
   "metadata": {},
   "outputs": [],
   "source": [
    "# This is the set up code for Gemini\n",
    "# Having problems with Google Gemini setup? Then just ignore this cell; when we use Gemini, I'll give you an alternative that bypasses this library altogether\n",
    "\n",
    "google.generativeai.configure()"
   ]
  },
  {
   "cell_type": "code",
   "execution_count": 23,
   "metadata": {},
   "outputs": [
    {
     "data": {
      "text/plain": [
       "'We can set this to set moore rules and avoid conversations out of the role'"
      ]
     },
     "execution_count": 23,
     "metadata": {},
     "output_type": "execute_result"
    }
   ],
   "source": [
    "system_message = \"\"\"You are a virtual assistant specialized in aesthetic health. Your goal is to provide accurate and useful information about aesthetic treatments, answer frequently asked questions, and help users schedule appointments with the clinic. You should also identify potential clients and guide them towards a consultation with specialists.\n",
    "\n",
    "Rules:\n",
    "1. You do not offer medical diagnoses or personalized treatments. Always recommend a consultation with a professional.\n",
    "2. You only provide information based on aesthetic treatments available at the clinic.\n",
    "3. If the user requests to schedule an appointment, collect their name, phone number, and time preference.\n",
    "4. If the user has questions about prices, mention that costs may vary and suggest a consultation for more details.\n",
    "5. You are friendly, professional, and direct in your responses.\n",
    "\n",
    "Example of Correct Response:\n",
    "*User:* \"What is the best treatment for wrinkles?\"\n",
    "*Chatbot:* \"There are several treatments like botox and hyaluronic acid. Their benefits are (...). I recommend scheduling a consultation with our specialists for a personalized evaluation. Would you like to schedule an appointment?\"\n",
    "\n",
    "### ❌ Avoid:\n",
    "- Providing detailed medical advice.\n",
    "- Responding outside the topic of aesthetics.\n",
    "- Making promises about specific results.\n",
    "\n",
    "Always guide the conversation towards a consultation with a specialist when necessary.\n",
    "\n",
    "If the patient ask for something out of aesthetic medicine, simply response. Sorry, i can't help yoy with that, please ask me something about aesthetic medicine!\n",
    "\"\"\"\n",
    "\"\"\"We can set this to set moore rules and avoid conversations out of the role\"\"\"\n",
    "\n",
    "# system_message += \"\\nIf the patient ask for something out of aesthetic medicine, simply response. Sorry, i can't help yoy with that, please ask me something about aesthetic medicine!\"\n"
   ]
  },
  {
   "cell_type": "code",
   "execution_count": 24,
   "metadata": {},
   "outputs": [],
   "source": [
    "# we can easily create this function that calls OpenAI\n",
    "# It's now just 1 line of code to prepare the input to OpenAI!\n",
    "\n",
    "def chat(message, history):\n",
    "    messages = [{\"role\": \"system\", \"content\": system_message}] + history + [{\"role\": \"user\", \"content\": message}]\n",
    "    \n",
    "    gemini = google.generativeai.GenerativeModel('gemini-1.5-flash')\n",
    "    stream = gemini.generate_content(messages[-1][\"content\"], stream=True)\n",
    "\n",
    "    response = \"\"\n",
    "    for chunk in stream:\n",
    "        response += chunk.text\n",
    "\n",
    "    return response"
   ]
  },
  {
   "cell_type": "code",
   "execution_count": 25,
   "metadata": {},
   "outputs": [
    {
     "name": "stdout",
     "output_type": "stream",
     "text": [
      "* Running on local URL:  http://127.0.0.1:7866\n",
      "* Running on public URL: https://2fb247dd6930767570.gradio.live\n",
      "\n",
      "This share link expires in 72 hours. For free permanent hosting and GPU upgrades, run `gradio deploy` from the terminal in the working directory to deploy to Hugging Face Spaces (https://huggingface.co/spaces)\n"
     ]
    },
    {
     "data": {
      "text/html": [
       "<div><iframe src=\"https://2fb247dd6930767570.gradio.live\" width=\"100%\" height=\"500\" allow=\"autoplay; camera; microphone; clipboard-read; clipboard-write;\" frameborder=\"0\" allowfullscreen></iframe></div>"
      ],
      "text/plain": [
       "<IPython.core.display.HTML object>"
      ]
     },
     "metadata": {},
     "output_type": "display_data"
    },
    {
     "data": {
      "text/plain": []
     },
     "execution_count": 25,
     "metadata": {},
     "output_type": "execute_result"
    }
   ],
   "source": [
    "gr.ChatInterface(fn=chat, type=\"messages\").launch(share=True)"
   ]
  },
  {
   "cell_type": "code",
   "execution_count": null,
   "metadata": {},
   "outputs": [],
   "source": [
    "\"\"\"We can set this to set moore rules and avoid conversations out of the role\"\"\"\n",
    "\n",
    "# system_message += \"\\nIf the patient ask for something out of aesthetic medicine, simply response. Sorry, i can't help yoy with that, please ask me something about aesthetic medicine!\""
   ]
  }
 ],
 "metadata": {
  "kernelspec": {
   "display_name": "llms",
   "language": "python",
   "name": "python3"
  },
  "language_info": {
   "codemirror_mode": {
    "name": "ipython",
    "version": 3
   },
   "file_extension": ".py",
   "mimetype": "text/x-python",
   "name": "python",
   "nbconvert_exporter": "python",
   "pygments_lexer": "ipython3",
   "version": "3.11.11"
  }
 },
 "nbformat": 4,
 "nbformat_minor": 2
}
