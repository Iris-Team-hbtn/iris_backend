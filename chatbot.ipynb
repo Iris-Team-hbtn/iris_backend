{
 "cells": [
  {
   "cell_type": "code",
   "execution_count": 18,
   "metadata": {},
   "outputs": [],
   "source": [
    "# imports\n",
    "import os\n",
    "import glob\n",
    "from dotenv import load_dotenv\n",
    "import gradio as gr\n",
    "import google.generativeai\n",
    "\n",
    "# Note: OpenAI import removed since you're using Google's Generative AI"
   ]
  },
  {
   "cell_type": "code",
   "execution_count": 11,
   "metadata": {},
   "outputs": [],
   "source": [
    "# price is a factor for our company, so we're going to use a non cost model\n",
    "\n",
    "MODEL = \"gemini-1.5-flash\""
   ]
  },
  {
   "cell_type": "code",
   "execution_count": 12,
   "metadata": {},
   "outputs": [],
   "source": [
    "load_dotenv()\n",
    "google_api_key = os.getenv('GOOGLE_API_KEY')\n",
    "google.generativeai.configure()"
   ]
  },
  {
   "cell_type": "code",
   "execution_count": 23,
   "metadata": {},
   "outputs": [],
   "source": [
    "\n",
    "context = {}\n",
    "\n",
    "try:\n",
    "    consults = glob.glob(\"files/protocol*\")\n",
    "    if not consults:\n",
    "        print(\"Warning: No files found matching the pattern 'files/protocol*'\")\n",
    "\n",
    "    for consult in consults:\n",
    "        name = consult.split('\\\\')[-1].split('.')[0]  # More robust path splitting\n",
    "        doc = \"\"\n",
    "        try:\n",
    "            with open(consult, \"r\", encoding=\"utf-8\") as f:\n",
    "                doc = f.read()\n",
    "            context[name] = doc\n",
    "        except IOError as e:\n",
    "            print(f\"Error reading file {consult}: {e}\")\n",
    "        except Exception as e:\n",
    "            print(f\"Error processing files: {e}\")\n",
    "\n",
    "\n",
    "    consults = glob.glob(\"files/protocol*\")\n",
    "    if not consults:\n",
    "        print(\"Warning: No files found matching the pattern 'files/protocol*'\")\n",
    "\n",
    "    for consult in consults:\n",
    "        name = consult.split('\\\\')[-1].split('.')[0]  # More robust path splitting\n",
    "        doc = \"\"\n",
    "        try:\n",
    "            with open(consult, \"r\", encoding=\"utf-8\") as f:\n",
    "                doc = f.read()\n",
    "            context[name] = doc\n",
    "        except IOError as e:\n",
    "            print(f\"Error reading file {consult}: {e}\")\n",
    "except Exception as e:\n",
    "    print(f\"Error processing files: {e}\")"
   ]
  },
  {
   "cell_type": "code",
   "execution_count": 25,
   "metadata": {},
   "outputs": [
    {
     "data": {
      "text/plain": [
       "'# Protocolo de Implante Capilar y Mesoterapia\\n\\n## I. Introducción\\n\\n### Objetivo\\nEstablecer un flujo de trabajo estandarizado y basado en la evidencia para el diagnóstico, tratamiento y seguimiento de pacientes con alopecia, abarcando tanto el implante capilar (trasplante) como la mesoterapia capilar, garantizando resultados naturales y la satisfacción del paciente.\\n\\n### Alcance\\n- Evaluación y diagnóstico integral del paciente\\n- Selección de la técnica de trasplante capilar adecuada (FUE, FUT, DHI, etc.)\\n- Procedimientos de mesoterapia capilar (manual o asistida, con o sin microneedling)\\n- Cuidados preoperatorios y postoperatorios\\n- Seguimiento y actualización de protocolos conforme a nuevos avances\\n\\n## II. Evaluación Preoperatoria\\n\\n### Historia Clínica y Evaluación Psicológica\\n- Recoger antecedentes médicos, familiares y de tratamientos previos\\n- Evaluar expectativas y motivación del paciente\\n- Documentar condiciones de salud generales y posibles contraindicaciones\\n\\n### Examen Físico y Diagnóstico Capilar\\n- Inspección visual y palpación del cuero cabelludo\\n- Utilización de dermatoscopia/tricoscopia y tricoscopia digital (ej. Trichoscan) para evaluar la densidad y calidad del cabello\\n- Realizar pruebas complementarias: tricograma, análisis de sangre, biopsia (cuando sea necesario)\\n\\n### Consentimiento Informado\\n- Explicar detalladamente el tratamiento, incluidas las técnicas utilizadas, posibles complicaciones y el hecho de emplear terapias \"off-label\" si corresponde\\n- Documentar el consentimiento en la historia clínica\\n\\n## III. Protocolo de Implante Capilar\\n\\n### A. Selección de la Técnica de Trasplante\\n\\nTécnicas disponibles:\\n\\nFUE (Follicular Unit Extraction):\\nExtracción individual de unidades foliculares mediante micropunch; ideal para pacientes que desean evitar cicatrices lineales y permiten estilos de cabello corto (\\u200b\\nCLINICABRUDER.COM\\n;\\nWEFORMACION.COM\\n).\\nFUT (Follicular Unit Transplant):\\nExtracción de una tira de cuero cabelludo, con división en unidades foliculares; adecuada para trasplantes de gran cantidad de injertos.\\nDHI (Direct Hair Implantation):\\nVariante de la FUE que permite implantar directamente los injertos sin crear incisiones previas, ofreciendo un control preciso sobre la dirección y profundidad del cabello.\\nTécnicas asistidas por robot o con dispositivos de zafiro:\\nPara aumentar la precisión en la extracción e implantación (consultar recursos de formación y tecnología en tricología,\\nCLINICABRUDER.COM\\n).\\nCriterios de selección:\\n\\nGrado y patrón de alopecia.\\nDisponibilidad y calidad del cabello donante.\\nPreferencias estéticas y expectativas del paciente.\\nExperiencia y equipamiento de la clínica.\\nB. Procedimiento Intraoperatorio\\nPreparación del paciente:\\n\\nHigiene y lavado previo del cuero cabelludo con soluciones antisépticas.\\nAplicación de anestesia local (tópica y/o infiltrativa) según la zona a tratar.\\nExtracción y Preparación de Injertos:\\n\\nRealizar la extracción de folículos de la zona donante (FUE o FUT) manteniendo la viabilidad de los injertos mediante soluciones conservantes y microscopía (\\u200b\\nWEFORMACION.COM\\n).\\nClasificar y preparar los injertos en sala de quirófano, garantizando su preservación.\\nImplantación:\\n\\nDiseñar y marcar la zona receptora teniendo en cuenta la dirección, ángulo y densidad natural.\\nCrear microcanales o incisiones con instrumentos de precisión (micropunch o dispositivos asistidos por láser o robótica).\\nImplantar los injertos individualmente, procurando la máxima naturalidad en el resultado.\\nC. Cuidados Postoperatorios del Implante Capilar\\nInstrucciones inmediatas (primeros 7-10 días):\\n\\nReposo relativo, evitar tocar o frotar la zona tratada.\\nAplicación de productos indicados (suero fisiológico, medicamentos antiinflamatorios y analgésicos según necesidad).\\nProtección solar y evitar actividades físicas intensas.\\nSeguimiento y Evaluación:\\n\\nCitas postoperatorias para evaluar la cicatrización, caída del “shock loss” (fase temporal en la que el cabello trasplantado se cae, seguido del re-crecimiento en 3–5 meses) y evolución del injerto (\\u200b\\nZIRA.CLINIC\\n).\\nAsesoramiento para cuidados domiciliares y uso de complementos (ej. PRP o mesoterapia) para potenciar resultados.\\nIV. Protocolo de Mesoterapia Capilar\\nA. Indicaciones y Objetivos\\nIndicaciones:\\nTratamiento para pacientes con alopecia androgenética, efluvio telógeno o adelgazamiento capilar; complemento pre o post trasplante capilar.\\nObjetivos:\\nEstimular la regeneración y fortalecer los folículos pilosos, mejorar la circulación sanguínea y la nutrición local.\\nB. Preparación del Paciente\\nEvaluación del estado capilar mediante diagnóstico clínico y complementario (tricoscopia, análisis sanguíneo).\\nAsegurar ausencia de contraindicaciones como alergias a los componentes de la solución.\\nC. Procedimiento de Mesoterapia\\nTécnica de inyección:\\n\\nRealizar microinyecciones intradérmicas (generalmente a menos de 4 mm de profundidad) de soluciones ricas en vitaminas, minerales, aminoácidos y, en algunos casos, principios activos como minoxidil o antiandrógenos (\\u200b\\nDRBRUNOJACOBOVSKI.COM\\n).\\nSe pueden complementar con técnicas de microneedling para mejorar la penetración de los activos.\\nNúmero y Frecuencia de Sesiones:\\n\\nGeneralmente se recomiendan entre 4 y 8 sesiones, con intervalos semanales o quincenales, ajustando según la respuesta clínica del paciente.\\nDuración de cada sesión: aproximadamente 15 a 30 minutos.\\nD. Cuidados Postoperatorios en Mesoterapia Capilar\\nInstruir al paciente para evitar frotamientos intensos y aplicar productos recomendados (champús suaves, hidratantes).\\nRecomendación de protección solar y evitar tratamientos agresivos en la zona tratada durante al menos 48 horas.\\nSeguimiento en consulta para evaluar la respuesta y, en caso necesario, ajustar la formulación o el número de sesiones.\\nV. Tratamientos Complementarios\\nPlasma Rico en Plaquetas (PRP):\\nPuede administrarse de forma combinada con mesoterapia o trasplante capilar para potenciar la regeneración capilar.\\nLáser de Baja Potencia (LLLT):\\nEstimula el crecimiento capilar y mejora la densidad del cabello, complementando tanto implante como mesoterapia.\\nBótox Capilar:\\nTratamiento no invasivo para restaurar la estructura y apariencia del cabello, aplicable como complemento en protocolos de regeneración (\\u200b\\nELPAIS.COM\\n).\\nVI. Seguimiento y Evaluación de Resultados\\nCitas periódicas:\\nEvaluación a 1, 3, 6 y 12 meses post-tratamiento con análisis fotográfico y herramientas de medición de densidad capilar (tricoscopia, Trichoscan).\\nAjustes terapéuticos:\\nEn función de la evolución, se podrán planificar sesiones complementarias de mesoterapia, PRP o revisiones en el trasplante.\\nRegistro y documentación:\\nMantener un archivo clínico detallado que incluya fotografías, informes y resultados de pruebas para garantizar la trazabilidad y facilitar estudios comparativos.\\nVII. Aspectos Legales y Éticos\\nConsentimiento informado:\\nExplicar detalladamente al paciente las técnicas, sus riesgos, beneficios y alternativas.\\nDocumentación:\\nRegistrar toda la información en la historia clínica del paciente.\\nConfidencialidad y protección de datos:\\nCumplir con la normativa vigente sobre datos personales y protección de la información.\\nVIII. Formación y Actualización Continua\\nActualización profesional:\\nParticipar en cursos, másteres y talleres de tricología, trasplante capilar y mesoterapia (como los ofrecidos por TECH Global University, IUM y otros recursos especializados\\nTECHTITUTE.COM\\n;\\nAMIRMEDICINAESTETICA.COM\\n).\\nRevisión periódica del protocolo:\\nIncorporar nuevos hallazgos y técnicas innovadoras en tricología (por ejemplo, el uso de células madre, bótox capilar o tecnologías robóticas en la extracción FUE).\\nIX. Conclusiones\\nEste protocolo de trabajo integra las mejores prácticas actuales en el manejo de la alopecia mediante implante capilar y mesoterapia capilar. Al seguir un proceso riguroso\\n\\nA continuación se expone un Protocolo de Trabajo Integral para una clínica de estética especializada en tricología, con énfasis en implante capilar y mesoterapia capilar. Este protocolo integra las técnicas más utilizadas y recomendadas en la actualidad, basándose en guías, artículos oficiales y material formativo de referencia. Se recomienda adaptarlo a las particularidades del paciente y la experiencia del equipo médico.\\n\\nI. Introducción\\nObjetivo:\\nDefinir un flujo de trabajo sistematizado que permita evaluar, planificar, ejecutar y dar seguimiento a los tratamientos capilares (implante capilar y mesoterapia capilar) para ofrecer resultados naturales y duraderos, mejorando la imagen y la autoestima del paciente.\\n\\nAlcance:\\n\\nEvaluación clínica y diagnóstica integral.\\nSelección de la técnica de trasplante adecuada (FUE, FUT, DHI, etc.).\\nProcedimiento de mesoterapia capilar (con o sin técnicas complementarias como microneedling).\\nCuidados preoperatorios, intraoperatorios y postoperatorios.\\nSeguimiento, documentación y actualización del protocolo.\\nII. Evaluación Preoperatoria\\nHistoria Clínica y Evaluación Psicológica:\\n\\nRecoger antecedentes médicos, familiares y tratamientos previos.\\nEvaluar expectativas, motivación y estado emocional del paciente.\\nIdentificar contraindicaciones o condiciones que puedan influir en el tratamiento.\\nExamen Físico y Diagnóstico Capilar:\\n\\nInspección del cuero cabelludo mediante dermatoscopia y tricoscopia digital (por ejemplo, Trichoscan) para evaluar densidad, miniaturización y patrones de alopecia (\\u200b\\nTOPDOCTORS.ES\\n;\\nQUIRONSALUD.COM\\n).\\nPruebas complementarias: tricograma, análisis sanguíneo, estudios hormonales o biopsia en casos selectos.\\nConsentimiento Informado:\\n\\nInformar al paciente de forma detallada sobre los procedimientos, sus riesgos, beneficios y alternativas (incluyendo tratamientos “off-label” si los hubiese) (\\u200b\\nACTASDERMO.ORG\\n).\\nDocumentar el consentimiento en la historia clínica.\\nIII. Protocolo de Implante Capilar\\nA. Selección y Planificación de la Técnica\\nTécnicas Disponibles:\\n\\nFUE (Follicular Unit Extraction):\\nExtracción individual de folículos mediante micropunch, ideal para evitar cicatrices lineales y adaptada a estilos de cabello corto (\\u200b\\nCLINICABRUDER.COM\\n;\\nWEFORMACION.COM\\n).\\nFUT (Follicular Unit Transplant):\\nExtracción en tira del cuero cabelludo, dividida en unidades foliculares; recomendada para pacientes con pérdida extensa.\\nDHI (Direct Hair Implantation):\\nVariante de la FUE que permite implantar directamente los injertos sin incisiones previas.\\nOtras técnicas y dispositivos:\\nSistemas robóticos (por ejemplo, ARTAS) o el uso de cuchillas de zafiro para incisiones más precisas.\\nCriterios de Selección:\\n\\nExtensión y patrón de alopecia.\\nCalidad y cantidad del cabello donante.\\nPreferencias estéticas y expectativas del paciente.\\nExperiencia del equipo y disponibilidad de tecnología.\\nB. Procedimiento Intraoperatorio\\nPreparación Preoperatoria:\\n\\nHigiene completa del cuero cabelludo y uso de soluciones antisépticas.\\nAdministración de anestesia local (tópica y/o infiltrativa) en zona donante y receptora.\\nExtracción y Preparación de Injertos:\\n\\nEn la FUE, extracción individual de folículos utilizando micropunch de menos de 1\\u202fmm para minimizar el trauma y las cicatrices (\\u200b\\nCLINICABRUDER.COM\\n).\\nEn la FUT, extracción de una tira y posterior disecado bajo microscopio.\\nConservación de los injertos en soluciones fisiológicas y prepararlos para la implantación.\\nImplantación:\\n\\nDiseño y marcado de la zona receptora respetando la dirección, ángulo y densidad natural.\\nCreación de microcanales mediante instrumentos de precisión (manuales o asistidos por tecnología).\\nImplantación individual de los injertos, cuidando la orientación y profundidad (\\u200b\\nWEFORMACION.COM\\n).\\nC. Cuidados Postoperatorios en Implante Capilar\\nInstrucciones Inmediatas (0–10 días):\\n\\nReposo relativo y evitar frotar o manipular el área tratada.\\nHigiene cuidadosa: lavado suave con champú recomendado, aplicación de soluciones indicadas.\\nEvitar exposición directa al sol y actividades físicas intensas.\\nSeguimiento:\\n\\nCitas de control a 1, 3, 6 y 12 meses para evaluar la evolución, documentar la integración de injertos y gestionar posibles complicaciones (como el “shock loss”, fase transitoria de caída postoperatoria) (\\u200b\\nZIRA.CLINIC\\n).\\nIV. Protocolo de Mesoterapia Capilar\\nA. Indicaciones y Objetivos\\nIndicaciones:\\nTratamiento de pacientes con alopecia androgenética, efluvio telógeno o adelgazamiento capilar; puede aplicarse de forma aislada o complementaria al trasplante.\\nObjetivos:\\nEstimular la regeneración capilar, nutrir y fortalecer los folículos, mejorar la circulación y detener la caída del cabello.\\nB. Preparación del Paciente\\nEvaluación clínica y diagnóstico capilar previo.\\nAsegurar que el paciente no tenga contraindicaciones (alergias, infecciones activas, etc.).\\nC. Procedimiento de Mesoterapia\\nTécnica de Inyección:\\n\\nRealización de microinyecciones intradérmicas (a menos de 4\\u202fmm de profundidad) en las áreas afectadas.\\nPuede combinarse con técnicas de microneedling para potenciar la absorción de los activos (\\u200b\\nDRBRUNOJACOBOVSKI.COM\\n).\\nComposición de la Solución:\\n\\nMezcla de vitaminas, minerales, aminoácidos y, según el caso, principios activos como minoxidil o antiandrógenos.\\nOpcionalmente, se puede incluir plasma rico en plaquetas (PRP) en protocolos combinados.\\nFrecuencia y Número de Sesiones:\\n\\nGeneralmente, se realizan entre 4 y 8 sesiones, espaciadas semanal o quincenalmente, según la respuesta del paciente.\\nCada sesión dura entre 15 y 30 minutos.\\nD. Cuidados Postoperatorios en Mesoterapia\\nEvitar frotamientos y lavados agresivos durante las primeras 48 horas.\\nUtilizar productos capilares suaves y protección solar.\\nSeguimiento clínico para valorar resultados y ajustar el protocolo si es necesario.\\nV. Tratamientos Complementarios\\nPlasma Rico en Plaquetas (PRP):\\nPuede administrarse en combinación con mesoterapia o trasplante para potenciar la regeneración.\\nTerapia Láser de Baja Potencia (LLLT):\\nEstimula la actividad celular y mejora la densidad capilar.\\nBótox Capilar:\\nTratamiento no invasivo que repara la fibra capilar mediante una fórmula rica en nutrientes (\\u200b\\nELPAIS.COM\\n).\\nVI. Seguimiento y Evaluación de Resultados\\nCitas Periódicas:\\nEvaluar a 1, 3, 6 y 12 meses mediante documentación fotográfica, tricoscopia y medición de densidad.\\nRegistro Clínico:\\nMantener un archivo digital con imágenes y datos de evolución para ajustar el tratamiento y para futuras referencias.\\nRevisión de Protocolos:\\nActualizar el protocolo de forma periódica conforme a nuevos avances y evidencia científica (por ejemplo, estudios sobre células madre o nuevas formulaciones).\\nVII. Aspectos Legales y Éticos\\nConsentimiento Informado:\\nInformar al paciente de manera clara sobre los procedimientos, riesgos y beneficios, y documentarlo adecuadamente.\\nProtección de Datos:\\nAsegurar la confidencialidad de la información y el cumplimiento de la normativa vigente.\\nComunicación y Transparencia:\\nExplicar cualquier tratamiento fuera de ficha técnica y obtener el consentimiento explícito.\\nVIII. Formación y Actualización Profesional\\nActualización Continua:\\nParticipar en cursos, másteres y talleres especializados en tricología, trasplante capilar y mesoterapia (como los que ofrecen TECH, IUM o AMIR Medicina Estética\\nTECHTITUTE.COM\\n;\\nAMIRMEDICINAESTETICA.COM\\n).\\nRevisión Periódica del Protocolo:\\nAdaptar el protocolo a las nuevas tecnologías y evidencias científicas, manteniendo la excelencia en la práctica clínica.\\nIX. Conclusiones\\nEste protocolo integral abarca desde la evaluación inicial hasta el seguimiento postoperatorio de los tratamientos capilares, integrando las técnicas quirúrgicas (FUE, FUT, DHI) y no invasivas (mesoterapia capilar, PRP, láser, bótox capilar). La clave del éxito reside en la personalización del tratamiento, la formación continua del equipo y el riguroso seguimiento de cada paciente, lo que permitirá mejorar tanto los resultados estéticos como la satisfacción y confianza del paciente.\\n\\nEste documento se debe considerar como base de trabajo y adaptarse continuamente conforme a las innovaciones en tricología y medicina capilar.\\n\\nReferencias:\\n\\nCLINICABRUDER.COM\\n,\\nWEFORMACION.COM\\n: Guías y artículos sobre técnicas de injerto capilar y métodos de extracción.\\nACTASDERMO.ORG\\n: Consenso sobre el manejo clínico de la alopecia androgénica.\\nTOPDOCTORS.ES\\n,\\nQUIRONSALUD.COM\\n: Herramientas de diagnóstico (tricoscopia, Trichoscan).\\nELPAIS.COM\\n: Información actualizada sobre tratamientos complementarios (bótox capilar).\\nEste protocolo ofrece una guía completa y actualizada para establecer un estándar de calidad en el tratamiento capilar en clínicas de estética y tricología.\\n'"
      ]
     },
     "execution_count": 25,
     "metadata": {},
     "output_type": "execute_result"
    }
   ],
   "source": [
    "context[\"protocol\"]"
   ]
  },
  {
   "cell_type": "code",
   "execution_count": 26,
   "metadata": {},
   "outputs": [],
   "source": [
    "system_message = \"\"\"Eres un asistente virtual especializado en salud estética. Tu objetivo es proporcionar información precisa y útil sobre tratamientos estéticos, responder preguntas frecuentes, y ayudar a los usuarios a agendar citas con la clínica. También debes identificar clientes potenciales y guiarlos hacia una consulta con especialistas.\n",
    "Reglas:\n",
    "1. No ofreces diagnósticos médicos ni tratamientos personalizados. Siempre recomiendas una consulta con un profesional.\n",
    "2. Solo proporcionas información basada en tratamientos estéticos disponibles en la clínica.\n",
    "3. Si el usuario solicita agendar una cita, recopilas su nombre, teléfono y preferencia de horario.\n",
    "4. Si el usuario tiene dudas sobre precios, mencionas que los costos pueden variar y sugieres una consulta para más detalles.\n",
    "5. Eres amigable, profesional y directo en tus respuestas.\n",
    "\n",
    "Ejemplo de Respuesta Correcta:\n",
    "*Usuario:* \"¿Cuál es el mejor tratamiento para eliminar arrugas?\"  \n",
    "*Chatbot:* \"Existen varios tratamientos como botox y ácido hialurónico. Sus beneficios son (...). Te recomiendo agendar una consulta con nuestros especialistas para una evaluación personalizada. ¿Te gustaría agendar una cita?\"\n",
    "\n",
    "### ❌ Evita:\n",
    "- No brindar consejos médicos detallados.\n",
    "- No responder fuera del tema de estética.\n",
    "- No hacer promesas sobre resultados específicos.\n",
    "\n",
    "Siempre guía la conversación hacia la consulta con un especialista cuando sea necesario.\n",
    "\"\"\""
   ]
  },
  {
   "cell_type": "code",
   "execution_count": 27,
   "metadata": {},
   "outputs": [],
   "source": [
    "def get_relevant_context(message):\n",
    "    relevant_context = []\n",
    "    for context_title, context_details in context.items():\n",
    "        if context_title.lower() in message.lower():\n",
    "            relevant_context.append(context_details)\n",
    "    return relevant_context          "
   ]
  },
  {
   "cell_type": "code",
   "execution_count": 28,
   "metadata": {},
   "outputs": [
    {
     "data": {
      "text/plain": [
       "[]"
      ]
     },
     "execution_count": 28,
     "metadata": {},
     "output_type": "execute_result"
    }
   ],
   "source": [
    "get_relevant_context(\"What is hair implant?\")"
   ]
  }
 ],
 "metadata": {
  "kernelspec": {
   "display_name": "llms",
   "language": "python",
   "name": "python3"
  },
  "language_info": {
   "codemirror_mode": {
    "name": "ipython",
    "version": 3
   },
   "file_extension": ".py",
   "mimetype": "text/x-python",
   "name": "python",
   "nbconvert_exporter": "python",
   "pygments_lexer": "ipython3",
   "version": "3.11.11"
  }
 },
 "nbformat": 4,
 "nbformat_minor": 2
}
